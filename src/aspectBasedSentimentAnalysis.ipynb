{
 "cells": [
  {
   "cell_type": "markdown",
   "metadata": {},
   "source": [
    "## Global variables"
   ]
  },
  {
   "cell_type": "code",
   "execution_count": 1,
   "metadata": {},
   "outputs": [],
   "source": [
    "# Global variables\n",
    "FILENAME = \"Womens Clothing E-Commerce Reviews.csv\"\n",
    "ASPECTS = [\"dress\", \"love\", \"fit\", \"size\", \"top\", \"color\", \"look\", \"wear\", \"fabric\", \"cute\", \"flattering\", \"comfortable\"]"
   ]
  },
  {
   "cell_type": "markdown",
   "metadata": {},
   "source": [
    "## Define the Class AspectSentimentAnalyzer"
   ]
  },
  {
   "cell_type": "code",
   "execution_count": 2,
   "metadata": {},
   "outputs": [],
   "source": [
    "import pandas as pd\n",
    "from nltk import sent_tokenize\n",
    "from nltk.sentiment import SentimentIntensityAnalyzer\n",
    "from preprocessing import preprocessText\n",
    "\n",
    "# Global variables\n",
    "FILENAME = \"../data/Womens Clothing E-Commerce Reviews.csv\"\n",
    "ASPECTS = [\"dress\", \"love\", \"fit\", \"size\", \"top\", \"color\", \"look\", \"wear\", \"fabric\", \"cute\", \"flattering\", \"comfortable\"]\n",
    "\n",
    "class AspectSentimentAnalyzer:\n",
    "    def __init__(self):\n",
    "        # Load and preprocess the data\n",
    "        self.df = pd.read_csv(FILENAME)\n",
    "        self.df.drop(columns=self.df.columns[0], axis=1, inplace=True)\n",
    "        self.df['Combined_Text'] = self.df['Review Text'].fillna('') + ' ' + self.df['Title'].fillna('')\n",
    "        self.df['Weight'] = self.df['Positive Feedback Count'].fillna(0) + 1\n",
    "        self.sia = SentimentIntensityAnalyzer()\n",
    "        self._prepare_sentiments()\n",
    "\n",
    "    def _find_aspect_sentences(self, text, aspect):\n",
    "        return [sentence for sentence in sent_tokenize(text) if aspect in sentence]\n",
    "\n",
    "    def _analyze_aspect_sentiment(self, aspect_sentences):\n",
    "        if not aspect_sentences:\n",
    "            return 0\n",
    "        scores = [self.sia.polarity_scores(sentence)['compound'] for sentence in aspect_sentences]\n",
    "        return sum(scores) / len(scores)\n",
    "\n",
    "    def _prepare_sentiments(self):\n",
    "        for aspect in ASPECTS:\n",
    "            self.df[aspect + '_sentences'] = self.df['Combined_Text'].apply(lambda text: self._find_aspect_sentences(text, aspect))\n",
    "            self.df[aspect + '_sentiment'] = self.df[aspect + '_sentences'].apply(self._analyze_aspect_sentiment)\n",
    "            self.df[aspect + '_weighted_sentiment'] = self.df[aspect + '_sentiment'] * self.df['Weight']\n",
    "\n",
    "        self._aggregate_sentiments()\n",
    "\n",
    "    def _aggregate_sentiments(self):\n",
    "        agg_columns = {aspect + '_weighted_sentiment': 'sum' for aspect in ASPECTS}\n",
    "        agg_columns['Weight'] = 'sum'\n",
    "        self.df_grouped = self.df.groupby('Clothing ID').agg(agg_columns).reset_index()\n",
    "\n",
    "        for aspect in ASPECTS:\n",
    "            weighted_col = aspect + '_weighted_sentiment'\n",
    "            self.df_grouped[aspect + '_sentiment'] = self.df_grouped[weighted_col] / self.df_grouped['Weight']\n",
    "            self.df_grouped.drop(columns=[weighted_col], inplace=True)\n",
    "\n",
    "    def get_ranking_by_aspect(self, input_aspects, N=10):\n",
    "        def calculate_combined_score(row, aspect_cols):\n",
    "            non_zero_scores = [score for score in row[aspect_cols] if score != 0]\n",
    "            return sum(non_zero_scores) / len(non_zero_scores) if non_zero_scores else 0\n",
    "\n",
    "        aspect_cols = [aspect + '_sentiment' for aspect in input_aspects]\n",
    "        df_selected = self.df_grouped[['Clothing ID'] + aspect_cols]\n",
    "        df_selected['combined_score'] = df_selected.apply(calculate_combined_score, axis=1, args=(aspect_cols,))\n",
    "        df_ranked = df_selected.sort_values(by='combined_score', ascending=False)\n",
    "        return df_ranked[['Clothing ID', 'combined_score']].head(N)"
   ]
  },
  {
   "cell_type": "code",
   "execution_count": 3,
   "metadata": {},
   "outputs": [
    {
     "name": "stdout",
     "output_type": "stream",
     "text": [
      "      Clothing ID  combined_score\n",
      "527           527         0.98870\n",
      "791           791         0.96800\n",
      "580           580         0.96030\n",
      "57             57         0.94640\n",
      "503           503         0.92730\n",
      "1161         1161         0.92495\n",
      "1194         1194         0.92300\n",
      "140           140         0.92090\n",
      "487           487         0.91860\n",
      "224           224         0.91840\n"
     ]
    },
    {
     "name": "stderr",
     "output_type": "stream",
     "text": [
      "C:\\ProgramData\\Anaconda3\\lib\\site-packages\\ipykernel_launcher.py:54: SettingWithCopyWarning: \n",
      "A value is trying to be set on a copy of a slice from a DataFrame.\n",
      "Try using .loc[row_indexer,col_indexer] = value instead\n",
      "\n",
      "See the caveats in the documentation: http://pandas.pydata.org/pandas-docs/stable/user_guide/indexing.html#returning-a-view-versus-a-copy\n"
     ]
    }
   ],
   "source": [
    "analyzer = AspectSentimentAnalyzer()\n",
    "print(analyzer.get_ranking_by_aspect([\"color\", \"fit\", \"fabric\"]))"
   ]
  },
  {
   "cell_type": "markdown",
   "metadata": {},
   "source": [
    "# Feedbacks\n",
    "\n",
    "We will test the results manually by evaluating if the returned results are indeed what we need"
   ]
  },
  {
   "cell_type": "markdown",
   "metadata": {},
   "source": [
    "## Test 1\n",
    "\n",
    "For Input as \"color\", \"fit\", \"fabric\" as above, we examined the reviews associated with the returned Clothing IDs, and found that the 10 returned results seem to be relevant overall.\n",
    "\n",
    "Majority of the reviews are related, e.g., \"I love the sweatshirt. clay color is very different it's a nice light fabric with nice detailed edges although it is an oversized piece it hangs and fits well although i am petite. great light sweatshirt for spring and summer\" for Clothing ID 580. \n",
    "\n",
    "However, there is indeed a review that is a bit contraversial -- Clothing ID 527 \"Cute bright colored suit a little more orange than pink i prefer pink but the fit didn't quite work for me. the bottoms were a little too big and the top although was fairly well proportioned just didn't look right altogether purchase the extra smalls in both  and have since returned\". It has a positive review for color. But the negative for fit.\n"
   ]
  },
  {
   "cell_type": "markdown",
   "metadata": {},
   "source": [
    "## Test 2\n"
   ]
  },
  {
   "cell_type": "code",
   "execution_count": 4,
   "metadata": {},
   "outputs": [
    {
     "name": "stderr",
     "output_type": "stream",
     "text": [
      "C:\\ProgramData\\Anaconda3\\lib\\site-packages\\ipykernel_launcher.py:54: SettingWithCopyWarning: \n",
      "A value is trying to be set on a copy of a slice from a DataFrame.\n",
      "Try using .loc[row_indexer,col_indexer] = value instead\n",
      "\n",
      "See the caveats in the documentation: http://pandas.pydata.org/pandas-docs/stable/user_guide/indexing.html#returning-a-view-versus-a-copy\n"
     ]
    },
    {
     "name": "stdout",
     "output_type": "stream",
     "text": [
      "      Clothing ID  combined_score\n",
      "791           791          0.9680\n",
      "387           387          0.9509\n",
      "776           776          0.9266\n",
      "499           499          0.9246\n",
      "309           309          0.9144\n",
      "311           311          0.8977\n",
      "1136         1136          0.8934\n",
      "297           297          0.8807\n",
      "85             85          0.8807\n",
      "646           646          0.8805\n"
     ]
    }
   ],
   "source": [
    "print(analyzer.get_ranking_by_aspect([\"comfortable\"]))"
   ]
  },
  {
   "cell_type": "markdown",
   "metadata": {},
   "source": [
    "For Input as \"color\", \"fit\", \"fabric\" as above, we examined the reviews associated with the returned Clothing IDs, and found that the 10 returned results seem to be relevant overall as well, indicating high precision.\n",
    "\n",
    "Majority of the reviews are related and should be returned, e.g., \"These pants are very comfortable i love putting my phone and wallet in the front big pocket so cool the linen is soft fits great\" for Clothing ID 791. There is just one which is not so relevant -- Clothing ID 856 with review \"You won't break the bank with this cute tee. loved that it's not a thin fabric. the variation in the stripes adds interest, too. i ordered a large, my regular size, and it fit well. i returned because it was a bit on the long side on my short frame, the colors didn't suit me and i need long sleeve tees now that we're heading into the colder months\""
   ]
  },
  {
   "cell_type": "code",
   "execution_count": null,
   "metadata": {},
   "outputs": [],
   "source": []
  }
 ],
 "metadata": {
  "kernelspec": {
   "display_name": "Python 3",
   "language": "python",
   "name": "python3"
  },
  "language_info": {
   "codemirror_mode": {
    "name": "ipython",
    "version": 3
   },
   "file_extension": ".py",
   "mimetype": "text/x-python",
   "name": "python",
   "nbconvert_exporter": "python",
   "pygments_lexer": "ipython3",
   "version": "3.7.3"
  }
 },
 "nbformat": 4,
 "nbformat_minor": 2
}
